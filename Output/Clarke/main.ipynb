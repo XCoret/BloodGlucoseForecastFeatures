{
 "cells": [
  {
   "cell_type": "code",
   "execution_count": 3,
   "metadata": {},
   "outputs": [],
   "source": [
    "import os\n",
    "import cv2 as cv\n",
    "for i in range(8):\n",
    "    case = i+1\n",
    "    img1 = cv.imread('C{}_M1_Clarke.png'.format(case))\n",
    "    img2 = cv.imread('C{}_M2_Clarke.png'.format(case))\n",
    "    img3 = cv.imread('C{}_M3_Clarke.png'.format(case))\n",
    "    temp = cv.hconcat([img1,img2])\n",
    "\n",
    "\n",
    "    out = cv.hconcat([temp,img3])\n",
    "    cv.imshow('out',out)\n",
    "    cv.waitKey(0)\n",
    "    cv.imwrite('C{}.png'.format(case),out)\n",
    "\n",
    "cv.destroyAllWindows()"
   ]
  }
 ],
 "metadata": {
  "kernelspec": {
   "display_name": "tensorflow",
   "language": "python",
   "name": "python3"
  },
  "language_info": {
   "codemirror_mode": {
    "name": "ipython",
    "version": 3
   },
   "file_extension": ".py",
   "mimetype": "text/x-python",
   "name": "python",
   "nbconvert_exporter": "python",
   "pygments_lexer": "ipython3",
   "version": "3.10.6"
  },
  "orig_nbformat": 4
 },
 "nbformat": 4,
 "nbformat_minor": 2
}
